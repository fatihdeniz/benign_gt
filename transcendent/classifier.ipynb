{
 "cells": [
  {
   "cell_type": "code",
   "execution_count": 6,
   "id": "d2fb030d-2391-4902-9312-9b3b2a0d3c9b",
   "metadata": {
    "tags": []
   },
   "outputs": [],
   "source": [
    "import os.path as osp\n",
    "import pandas as pd\n",
    "import numpy as np\n",
    "\n",
    "from glob import glob\n",
    "import sys\n",
    "import importlib as imp\n",
    "import matplotlib.pyplot as plt\n",
    "from sklearn.preprocessing import StandardScaler\n",
    "from joblib import dump, load\n",
    "import json\n",
    "import pickle as pc\n",
    "from sklearn.feature_extraction import DictVectorizer\n"
   ]
  },
  {
   "cell_type": "markdown",
   "id": "b5d5f830-effa-47ef-bf40-fe9faed8ae7f",
   "metadata": {
    "tags": []
   },
   "source": [
    "## Features"
   ]
  },
  {
   "cell_type": "code",
   "execution_count": 4,
   "id": "fbe74e4b-bcc0-4c0c-b094-5c539944b443",
   "metadata": {
    "tags": []
   },
   "outputs": [],
   "source": [
    "X_file = '../../external/transcendent/extended-features-X.json'\n",
    "y_file = '../../external/transcendent/extended-features-y.json'\n",
    "meta_file = '../../external/transcendent/extended-features-meta.json'\n",
    "\n",
    "vectorizer = DictVectorizer(sparse=True, dtype=int)\n",
    "with open(X_file, 'r') as infile:\n",
    "    X=json.load(infile)\n",
    "    X_t = vectorizer.fit_transform(X)\n",
    "    \n",
    "with open(y_file, 'r') as infile:\n",
    "    y=json.load(infile)\n",
    "    y = np.array(y)\n",
    "    \n",
    "with open(meta_file, 'r') as infile:\n",
    "    meta=json.load(infile)\n",
    "    meta_df = pd.DataFrame(meta)\n",
    "    "
   ]
  },
  {
   "cell_type": "code",
   "execution_count": null,
   "id": "2f0a0ab3-f4e4-4a84-ae5e-b353d7e86880",
   "metadata": {},
   "outputs": [],
   "source": [
    "X_vec = []\n",
    "for data_point in X:\n",
    "    features = {}\n",
    "    for feature_name, feature_value in data_point.items():\n",
    "        # Convert the feature to binary representation (e.g., 0 or 1)\n",
    "        features[feature_name] = int(feature_value is not None)\n",
    "\n",
    "    X_vec.append(features)\n",
    "X_t = vectorizer.fit_transform(X_vec)\n"
   ]
  },
  {
   "cell_type": "markdown",
   "id": "8be587a9-fd6b-4ff6-8979-5bf1251fe400",
   "metadata": {},
   "source": [
    "## Classifier"
   ]
  },
  {
   "cell_type": "code",
   "execution_count": 19,
   "id": "00798d4b-6f01-4cb4-bc72-a6b283837b79",
   "metadata": {},
   "outputs": [],
   "source": [
    "from sklearn.svm import LinearSVC\n",
    "from sklearn.metrics import accuracy_score\n",
    "from sklearn.model_selection import train_test_split, cross_val_score"
   ]
  },
  {
   "cell_type": "code",
   "execution_count": 20,
   "id": "fb394d2e-8ab1-4ed9-864a-12a521bc7e7b",
   "metadata": {},
   "outputs": [],
   "source": [
    "d1_train, d1_test, d2_train, d2_test, d_u = pc.load(open('all_indices.pkl', 'rb'))"
   ]
  },
  {
   "cell_type": "code",
   "execution_count": 21,
   "id": "5ad556cd-de2b-47cb-9b35-90aaa88b7f21",
   "metadata": {},
   "outputs": [
    {
     "name": "stdout",
     "output_type": "stream",
     "text": [
      "Accuracy: 0.92\n"
     ]
    },
    {
     "name": "stderr",
     "output_type": "stream",
     "text": [
      "/home/local/QCRI/fdeniz/anaconda3/lib/python3.8/site-packages/sklearn/svm/_base.py:1244: ConvergenceWarning: Liblinear failed to converge, increase the number of iterations.\n",
      "  warnings.warn(\n"
     ]
    }
   ],
   "source": [
    "X_train = X_t[d1_train]\n",
    "y_train = y[d1_train]\n",
    "X_test = X_t[d1_test]\n",
    "y_test = y[d1_test]\n",
    "\n",
    "classifier = LinearSVC()\n",
    "classifier.fit(X_train, y_train)\n",
    "y_test_pred = classifier.predict(X_test)\n",
    "accuracy = accuracy_score(y_test, y_test_pred)\n",
    "print(f\"Accuracy: {accuracy}\")"
   ]
  },
  {
   "cell_type": "code",
   "execution_count": 22,
   "id": "9bb40972-94fe-4ac9-a80d-231abeed4e81",
   "metadata": {},
   "outputs": [
    {
     "name": "stdout",
     "output_type": "stream",
     "text": [
      "Accuracy: 0.985\n"
     ]
    },
    {
     "name": "stderr",
     "output_type": "stream",
     "text": [
      "/home/local/QCRI/fdeniz/anaconda3/lib/python3.8/site-packages/sklearn/svm/_base.py:1244: ConvergenceWarning: Liblinear failed to converge, increase the number of iterations.\n",
      "  warnings.warn(\n"
     ]
    }
   ],
   "source": [
    "X_train = X_t[d2_train]\n",
    "y_train = y[d2_train]\n",
    "X_test = X_t[d2_test]\n",
    "y_test = y[d2_test]\n",
    "\n",
    "classifier = LinearSVC()\n",
    "classifier.fit(X_train, y_train)\n",
    "y_test_pred = classifier.predict(X_test)\n",
    "accuracy = accuracy_score(y_test, y_test_pred)\n",
    "print(f\"Accuracy: {accuracy}\")"
   ]
  },
  {
   "cell_type": "code",
   "execution_count": 24,
   "id": "4bda4065-4f7b-4977-95a2-972d7cc22021",
   "metadata": {},
   "outputs": [
    {
     "name": "stderr",
     "output_type": "stream",
     "text": [
      "/home/local/QCRI/fdeniz/anaconda3/lib/python3.8/site-packages/sklearn/svm/_base.py:1244: ConvergenceWarning: Liblinear failed to converge, increase the number of iterations.\n",
      "  warnings.warn(\n",
      "/home/local/QCRI/fdeniz/anaconda3/lib/python3.8/site-packages/sklearn/svm/_base.py:1244: ConvergenceWarning: Liblinear failed to converge, increase the number of iterations.\n",
      "  warnings.warn(\n",
      "/home/local/QCRI/fdeniz/anaconda3/lib/python3.8/site-packages/sklearn/svm/_base.py:1244: ConvergenceWarning: Liblinear failed to converge, increase the number of iterations.\n",
      "  warnings.warn(\n",
      "/home/local/QCRI/fdeniz/anaconda3/lib/python3.8/site-packages/sklearn/svm/_base.py:1244: ConvergenceWarning: Liblinear failed to converge, increase the number of iterations.\n",
      "  warnings.warn(\n",
      "/home/local/QCRI/fdeniz/anaconda3/lib/python3.8/site-packages/sklearn/svm/_base.py:1244: ConvergenceWarning: Liblinear failed to converge, increase the number of iterations.\n",
      "  warnings.warn(\n"
     ]
    },
    {
     "name": "stdout",
     "output_type": "stream",
     "text": [
      "Mean Cross-Validation Accuracy: 0.9820619823073992\n"
     ]
    },
    {
     "name": "stderr",
     "output_type": "stream",
     "text": [
      "/home/local/QCRI/fdeniz/anaconda3/lib/python3.8/site-packages/sklearn/svm/_base.py:1244: ConvergenceWarning: Liblinear failed to converge, increase the number of iterations.\n",
      "  warnings.warn(\n"
     ]
    },
    {
     "name": "stdout",
     "output_type": "stream",
     "text": [
      "2016 accuracy: 0.9406888660029752\n",
      "2017 accuracy: 0.955413216684893\n",
      "2018 accuracy: 0.9594267955801105\n"
     ]
    }
   ],
   "source": [
    "# this part is for cross validation for concept drift\n",
    "train_indices = meta_df[meta_df['year2']<2016].index\n",
    "\n",
    "X_train = X_t[train_indices]\n",
    "y_train = y[train_indices]\n",
    "\n",
    "# Single pass\n",
    "# X_train, X_val, y_train, y_val = train_test_split(X_train, y_train, test_size=0.2, random_state=42)\n",
    "# classifier = LinearSVC()\n",
    "# classifier.fit(X_train, y_train)\n",
    "# y_val_pred = classifier.predict(X_val)\n",
    "# accuracy = accuracy_score(y_val, y_val_pred)\n",
    "# print(f\"Validation accuracy: {accuracy}\")\n",
    "\n",
    "# Cross validation\n",
    "classifier = LinearSVC()\n",
    "cv_scores = cross_val_score(classifier, X_train, y_train, cv=5)\n",
    "mean_accuracy = np.mean(cv_scores)\n",
    "print(f\"Mean Cross-Validation Accuracy: {mean_accuracy}\")\n",
    "classifier.fit(X_train, y_train)\n",
    "\n",
    "for year in [2016, 2017, 2018]:\n",
    "    test_indices = meta_df[~(meta_df['year2'] == year)].index\n",
    "    X_test = X_t[test_indices]\n",
    "    y_test = y[test_indices]\n",
    "    y_pred = classifier.predict(X_test)\n",
    "\n",
    "    # Calculate the accuracy of the classifier\n",
    "    accuracy = accuracy_score(y_test, y_pred)\n",
    "    print(f\"{year} accuracy: {accuracy}\")"
   ]
  },
  {
   "cell_type": "code",
   "execution_count": 75,
   "id": "5a891610-1ad6-4ea2-a6a2-c77a2e809b86",
   "metadata": {},
   "outputs": [
    {
     "name": "stderr",
     "output_type": "stream",
     "text": [
      "/home/local/QCRI/fdeniz/anaconda3/envs/gnn/lib/python3.8/site-packages/sklearn/svm/_base.py:1244: ConvergenceWarning: Liblinear failed to converge, increase the number of iterations.\n",
      "  warnings.warn(\n",
      "/home/local/QCRI/fdeniz/anaconda3/envs/gnn/lib/python3.8/site-packages/sklearn/svm/_base.py:1244: ConvergenceWarning: Liblinear failed to converge, increase the number of iterations.\n",
      "  warnings.warn(\n",
      "/home/local/QCRI/fdeniz/anaconda3/envs/gnn/lib/python3.8/site-packages/sklearn/svm/_base.py:1244: ConvergenceWarning: Liblinear failed to converge, increase the number of iterations.\n",
      "  warnings.warn(\n",
      "/home/local/QCRI/fdeniz/anaconda3/envs/gnn/lib/python3.8/site-packages/sklearn/svm/_base.py:1244: ConvergenceWarning: Liblinear failed to converge, increase the number of iterations.\n",
      "  warnings.warn(\n",
      "/home/local/QCRI/fdeniz/anaconda3/envs/gnn/lib/python3.8/site-packages/sklearn/svm/_base.py:1244: ConvergenceWarning: Liblinear failed to converge, increase the number of iterations.\n",
      "  warnings.warn(\n"
     ]
    },
    {
     "name": "stdout",
     "output_type": "stream",
     "text": [
      "Mean Cross-Validation Accuracy: 0.9834963481826335\n"
     ]
    },
    {
     "name": "stderr",
     "output_type": "stream",
     "text": [
      "/home/local/QCRI/fdeniz/anaconda3/envs/gnn/lib/python3.8/site-packages/sklearn/svm/_base.py:1244: ConvergenceWarning: Liblinear failed to converge, increase the number of iterations.\n",
      "  warnings.warn(\n"
     ]
    },
    {
     "name": "stdout",
     "output_type": "stream",
     "text": [
      "Accuracy: 0.7024722932651322\n",
      "Accuracy: 0.9709090909090909\n"
     ]
    }
   ],
   "source": [
    "train_indices = meta_df[(meta_df['google'] == 1) & (meta_df['china'] == 0)].index\n",
    "\n",
    "X_train = X_t[train_indices]\n",
    "y_train = y[train_indices]\n",
    "\n",
    "# Single pass\n",
    "# X_train, X_val, y_train, y_val = train_test_split(X_train, y_train, test_size=0.2, random_state=42)\n",
    "# classifier = LinearSVC()\n",
    "# classifier.fit(X_train, y_train)\n",
    "# y_val_pred = classifier.predict(X_val)\n",
    "# accuracy = accuracy_score(y_val, y_val_pred)\n",
    "# print(f\"Validation accuracy: {accuracy}\")\n",
    "\n",
    "# Cross validation\n",
    "classifier = LinearSVC()\n",
    "cv_scores = cross_val_score(classifier, X_train, y_train, cv=5)\n",
    "mean_accuracy = np.mean(cv_scores)\n",
    "print(f\"Mean Cross-Validation Accuracy: {mean_accuracy}\")\n",
    "classifier.fit(X_train, y_train)\n",
    "\n",
    "test_indices1 = meta_df[(meta_df['google'] == 0) & (meta_df['china'] == 1)].index\n",
    "test_indices2 = meta_df[(meta_df['google'] == 1) & (meta_df['china'] == 1)].index\n",
    "for test_indices in [test_indices1, test_indices2]:\n",
    "    X_test = X_t[test_indices]\n",
    "    y_test = y[test_indices]\n",
    "\n",
    "    # Make predictions on the test data\n",
    "    y_pred = classifier.predict(X_test)\n",
    "\n",
    "    # Calculate the accuracy of the classifier\n",
    "    accuracy = accuracy_score(y_test, y_pred)\n",
    "    print(f\"Accuracy: {accuracy}\")"
   ]
  },
  {
   "cell_type": "code",
   "execution_count": null,
   "id": "3c00243c-3241-4f20-a833-69d6b3be62be",
   "metadata": {},
   "outputs": [],
   "source": []
  }
 ],
 "metadata": {
  "kernelspec": {
   "display_name": "Python 3 (ipykernel)",
   "language": "python",
   "name": "python3"
  },
  "language_info": {
   "codemirror_mode": {
    "name": "ipython",
    "version": 3
   },
   "file_extension": ".py",
   "mimetype": "text/x-python",
   "name": "python",
   "nbconvert_exporter": "python",
   "pygments_lexer": "ipython3",
   "version": "3.8.5"
  }
 },
 "nbformat": 4,
 "nbformat_minor": 5
}
