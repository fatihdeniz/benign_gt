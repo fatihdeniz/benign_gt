{
 "cells": [
  {
   "cell_type": "code",
   "execution_count": 15,
   "id": "d2fb030d-2391-4902-9312-9b3b2a0d3c9b",
   "metadata": {
    "tags": []
   },
   "outputs": [],
   "source": [
    "import os.path as osp\n",
    "import pandas as pd\n",
    "import numpy as np\n",
    "\n",
    "from glob import glob\n",
    "import sys\n",
    "import importlib as imp\n",
    "import matplotlib.pyplot as plt\n",
    "from sklearn.preprocessing import StandardScaler\n",
    "from joblib import dump, load\n",
    "import json\n",
    "\n",
    "from sklearn.feature_extraction import DictVectorizer\n",
    "from ydata_profiling import ProfileReport\n"
   ]
  },
  {
   "cell_type": "code",
   "execution_count": 1,
   "id": "c53d9555-4864-41c6-ade2-4bcbe3ae7109",
   "metadata": {},
   "outputs": [
    {
     "name": "stdout",
     "output_type": "stream",
     "text": [
      "bodmas_malware_category.csv  featurenames.txt  train-features.npz.04D6C50F\n",
      "bodmas_metadata.csv\t     lock.mdb\t       ucsb_metadata.csv\n",
      "bodmas.npz\t\t     README\t       ucsb.npz\n",
      "ember_metadata.csv\t     sorel-data.mdb\n",
      "ember.npz\t\t     sorel-meta.db\n"
     ]
    }
   ],
   "source": [
    "!ls ../../external/microsoft_pe"
   ]
  },
  {
   "cell_type": "code",
   "execution_count": 12,
   "id": "5a62b8d2-8728-4cc8-a9f4-4e5bb413c48a",
   "metadata": {},
   "outputs": [],
   "source": [
    "# # to analyze the data\n",
    "# metafiles = 'external/ember/*_metadata.csv'\n",
    "# for metafile in glob(metafiles):\n",
    "#     name  = metafile.split('/')[-1].split('_')[0].upper()\n",
    "#     meta = pd.read_csv(metafile)\n",
    "#     profile = ProfileReport(meta,title=f\"{name} Dataset Profile\")\n",
    "#     profile.to_file(f\"{name}_report.html\")\n",
    "#     # meta.groupby('family').size()"
   ]
  },
  {
   "cell_type": "code",
   "execution_count": 32,
   "id": "39124661-08c5-4a45-b64c-526df36430f8",
   "metadata": {},
   "outputs": [
    {
     "name": "stdout",
     "output_type": "stream",
     "text": [
      "external/microsoft_pe/ucsb.npz X: (311714, 2381) Y: (311714,)\n",
      "external/microsoft_pe/ember.npz X: (1550000, 2381) Y: (1550000,)\n",
      "external/microsoft_pe/bodmas.npz X: (134435, 2381) Y: (134435,)\n"
     ]
    }
   ],
   "source": [
    "for file in glob('../../external/microsoft_pe/*.npz'):\n",
    "    # bodmas = 'external/ember/bodmas.npz'\n",
    "    try:\n",
    "        file_np=np.load(file)\n",
    "        print(file, 'X:', file_np['X'].shape, 'Y:', file_np['y'].shape)\n",
    "    except Exception as e:\n",
    "        print(\"Exception\", str(e))\n",
    "        pass"
   ]
  },
  {
   "cell_type": "code",
   "execution_count": 34,
   "id": "a387cde4-cd2a-497e-823c-7a03884d0d6c",
   "metadata": {},
   "outputs": [
    {
     "data": {
      "text/plain": [
       "(array([0, 1]), array([101847, 209867]))"
      ]
     },
     "execution_count": 34,
     "metadata": {},
     "output_type": "execute_result"
    }
   ],
   "source": [
    "ucsb_np = np.load('../../external/microsoft_pe/ucsb.npz')\n",
    "np.unique(ucsb_np['y'], return_counts=True)"
   ]
  },
  {
   "cell_type": "code",
   "execution_count": 19,
   "id": "434c53d6-a96e-4031-9572-63303c341d83",
   "metadata": {},
   "outputs": [
    {
     "data": {
      "text/plain": [
       "m    800000\n",
       "Name: family, dtype: int64"
      ]
     },
     "execution_count": 19,
     "metadata": {},
     "output_type": "execute_result"
    }
   ],
   "source": [
    "# ember_meta = pd.read_csv('external/microsoft_pe/ember_metadata.csv')\n",
    "ember_meta['family'].value_counts()"
   ]
  },
  {
   "cell_type": "code",
   "execution_count": 25,
   "id": "a187b480-f658-4019-9a94-f97f44776e94",
   "metadata": {},
   "outputs": [
    {
     "data": {
      "text/plain": [
       "2017    750000\n",
       "2018    750000\n",
       "2016     22209\n",
       "2015     10330\n",
       "2014      4393\n",
       "2013      3735\n",
       "2009      3112\n",
       "2010      2875\n",
       "2011      1898\n",
       "2012      1291\n",
       "2008       118\n",
       "2007        37\n",
       "2006         2\n",
       "Name: year, dtype: int64"
      ]
     },
     "execution_count": 25,
     "metadata": {},
     "output_type": "execute_result"
    }
   ],
   "source": [
    "len(ember_meta)\n",
    "# ember_meta['year'] = pd.to_datetime(ember_meta['timestamp']).dt.year\n",
    "ember_meta['year'].value_counts()\n"
   ]
  },
  {
   "cell_type": "code",
   "execution_count": 26,
   "id": "18733563-723c-4a38-99de-802392ee6b21",
   "metadata": {},
   "outputs": [],
   "source": [
    "ember_np = np.load('../../external/microsoft_pe/ember.npz')"
   ]
  },
  {
   "cell_type": "code",
   "execution_count": 30,
   "id": "c775ea1f-8929-44d6-b669-e6b9715ac4c5",
   "metadata": {},
   "outputs": [
    {
     "data": {
      "text/plain": [
       "(1550000, 2381)"
      ]
     },
     "execution_count": 30,
     "metadata": {},
     "output_type": "execute_result"
    }
   ],
   "source": [
    "ember_np['X'].shape"
   ]
  },
  {
   "cell_type": "code",
   "execution_count": null,
   "id": "3c00243c-3241-4f20-a833-69d6b3be62be",
   "metadata": {},
   "outputs": [],
   "source": []
  }
 ],
 "metadata": {
  "kernelspec": {
   "display_name": "Python 3 (ipykernel)",
   "language": "python",
   "name": "python3"
  },
  "language_info": {
   "codemirror_mode": {
    "name": "ipython",
    "version": 3
   },
   "file_extension": ".py",
   "mimetype": "text/x-python",
   "name": "python",
   "nbconvert_exporter": "python",
   "pygments_lexer": "ipython3",
   "version": "3.8.5"
  }
 },
 "nbformat": 4,
 "nbformat_minor": 5
}
